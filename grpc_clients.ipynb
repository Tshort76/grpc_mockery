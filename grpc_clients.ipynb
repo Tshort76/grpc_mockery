{
 "cells": [
  {
   "cell_type": "markdown",
   "metadata": {},
   "source": [
    "# Hotel Searches"
   ]
  },
  {
   "cell_type": "code",
   "execution_count": null,
   "metadata": {},
   "outputs": [],
   "source": [
    "from hotel_search.v1.hotel_search_service_pb2_grpc import HotelSearchServiceStub\n",
    "from hotel_search.v1.hotel_search_request_pb2 import HotelSearchRequest\n",
    "from google.protobuf.json_format import ParseDict\n",
    "import grpc\n",
    "import randomproto\n",
    "import hotel_search.utils as u\n",
    "\n",
    "# meta field is huge ... ?\n",
    "def search_hotels(request_key: str = None):\n",
    "    with grpc.insecure_channel(\"localhost:50051\", options=[(\"grpc.absolute_max_metadata_size\", int(256e3)),]) as channel:\n",
    "        stub = HotelSearchServiceStub(channel)\n",
    "\n",
    "        if request_key and u.MOCK_DATA.get(request_key):\n",
    "            # json data was parsed into dict, now we parse it into a protobuf object\n",
    "            req = ParseDict(u.MOCK_DATA.get(request_key).get(\"request\"), HotelSearchRequest())\n",
    "        else:\n",
    "            req = randomproto.randproto(HotelSearchRequest)\n",
    "\n",
    "        print(f\"------ REQUEST ------\\n{req}\\n----- END REQUEST --------\")\n",
    "        return stub.HotelSearch(req)\n"
   ]
  },
  {
   "cell_type": "code",
   "execution_count": null,
   "metadata": {},
   "outputs": [],
   "source": [
    "# request random sample\n",
    "search_hotels()"
   ]
  },
  {
   "cell_type": "code",
   "execution_count": null,
   "metadata": {},
   "outputs": [],
   "source": [
    "_key = list(u.MOCK_DATA.keys())[0]\n",
    "search_hotels(_key)"
   ]
  },
  {
   "cell_type": "markdown",
   "metadata": {},
   "source": [
    "## Make Mock examples"
   ]
  },
  {
   "cell_type": "code",
   "execution_count": null,
   "metadata": {},
   "outputs": [],
   "source": [
    "from google.protobuf.json_format import MessageToDict\n",
    "from hotel_search.v1.hotel_search_response_pb2 import HotelSearchResponse\n",
    "from hotel_search.v1.hotel_search_request_pb2 import HotelSearchRequest\n",
    "import json\n",
    "\n",
    "request = MessageToDict(randomproto.randproto(HotelSearchRequest), preserving_proto_field_name=True)\n",
    "response = MessageToDict(randomproto.randproto(HotelSearchResponse), preserving_proto_field_name=True)\n",
    "k = u.mock_lookup_key(request)\n",
    "\n",
    "with open(\"resources/temp.json\", \"w\") as fp:\n",
    "    json.dump({k: {\"request\": request, \"response\": response}}, fp, indent=2)"
   ]
  },
  {
   "cell_type": "code",
   "execution_count": null,
   "metadata": {},
   "outputs": [],
   "source": []
  }
 ],
 "metadata": {
  "kernelspec": {
   "display_name": ".venv",
   "language": "python",
   "name": "python3"
  },
  "language_info": {
   "codemirror_mode": {
    "name": "ipython",
    "version": 3
   },
   "file_extension": ".py",
   "mimetype": "text/x-python",
   "name": "python",
   "nbconvert_exporter": "python",
   "pygments_lexer": "ipython3",
   "version": "3.10.1"
  }
 },
 "nbformat": 4,
 "nbformat_minor": 2
}
